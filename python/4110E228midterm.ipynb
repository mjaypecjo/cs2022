{
  "nbformat": 4,
  "nbformat_minor": 0,
  "metadata": {
    "colab": {
      "provenance": []
    },
    "kernelspec": {
      "name": "python3",
      "display_name": "Python 3"
    },
    "language_info": {
      "name": "python"
    }
  },
  "cells": [
    {
      "cell_type": "markdown",
      "source": [
        "# **1**"
      ],
      "metadata": {
        "id": "gdLKK7VyJ5x2"
      }
    },
    {
      "cell_type": "markdown",
      "source": [
        "What can Python do?\n",
        "\n",
        "(A)Python can be used on a server to create web applications.\n",
        "\n",
        "(B)Python can be used alongside software to create workflows.\n",
        "\n",
        "(C)Python can connect to database systems. It can also read and modify files.\n",
        "\n",
        "(D)Python can be used to handle big data and perform complex mathematics."
      ],
      "metadata": {
        "id": "SMLiRTLmKLiY"
      }
    },
    {
      "cell_type": "markdown",
      "source": [
        "-answer: https://www.w3schools.com/python/python_intro.asp"
      ],
      "metadata": {
        "id": "I5B8q--uKkba"
      }
    },
    {
      "cell_type": "markdown",
      "source": [
        "What can Python do?\n",
        "\n",
        "Python can be used on a server to create web applications.\n",
        "\n",
        "Python can be used alongside software to create workflows.\n",
        "\n",
        "Python can connect to database systems. It can also read and modify files.\n",
        "\n",
        "Python can be used to handle big data and perform complex mathematics.\n",
        "\n",
        "Python can be used for rapid prototyping, or for production-ready software development. Why Python?"
      ],
      "metadata": {
        "id": "iuTt3ABNKmlE"
      }
    },
    {
      "cell_type": "markdown",
      "source": [
        "# **2**"
      ],
      "metadata": {
        "id": "27wB27LEK0L6"
      }
    },
    {
      "cell_type": "markdown",
      "source": [
        "Python uses __ to indicate a block of code\n",
        "\n",
        "(A) [] (B) {} (C) () (D) indentation"
      ],
      "metadata": {
        "id": "s-5NlPkBK2uL"
      }
    },
    {
      "cell_type": "markdown",
      "source": [
        "answer https://www.w3schools.com/python/python_syntax.asp"
      ],
      "metadata": {
        "id": "d15kUu3IK5dt"
      }
    },
    {
      "cell_type": "markdown",
      "source": [
        "Python uses indentation to indicate a block of code.\n"
      ],
      "metadata": {
        "id": "w4l8HY-bK7tV"
      }
    },
    {
      "cell_type": "markdown",
      "source": [
        "# **3**"
      ],
      "metadata": {
        "id": "hRtDyNfQK9k2"
      }
    },
    {
      "cell_type": "markdown",
      "source": [
        "Python has commenting capability for the purpose of in-code documentation. Comments start with a  __________\n",
        "\n",
        "(A) A    (B) #    (C)  /     (D)&"
      ],
      "metadata": {
        "id": "pCLjIugXLBKU"
      }
    },
    {
      "cell_type": "markdown",
      "source": [
        "**(B) #**"
      ],
      "metadata": {
        "id": "l-mkBrOhLcdT"
      }
    },
    {
      "cell_type": "markdown",
      "source": [
        "# **4**"
      ],
      "metadata": {
        "id": "AvjTBNg8LfSV"
      }
    },
    {
      "cell_type": "code",
      "execution_count": 1,
      "metadata": {
        "colab": {
          "base_uri": "https://localhost:8080/"
        },
        "id": "eghqs7PpJx5d",
        "outputId": "2309ebc4-e1d0-4436-a375-d1f9b0ca0cc3"
      },
      "outputs": [
        {
          "output_type": "stream",
          "name": "stdout",
          "text": [
            "apple\n"
          ]
        }
      ],
      "source": [
        "fruits = [\"apple\", \"banana\", \"cherry\"]\n",
        "x, y, z = fruits\n",
        "print(x)"
      ]
    },
    {
      "cell_type": "markdown",
      "source": [
        "(A) **apple**"
      ],
      "metadata": {
        "id": "RBAHATsaLlSu"
      }
    },
    {
      "cell_type": "markdown",
      "source": [
        "# **5**"
      ],
      "metadata": {
        "id": "fpRZmCmHLnB9"
      }
    },
    {
      "cell_type": "code",
      "source": [
        "students = { 'name' : 'alice' , 'score' : 60 }"
      ],
      "metadata": {
        "id": "VFvkXxVfL6_Y"
      },
      "execution_count": 4,
      "outputs": []
    },
    {
      "cell_type": "markdown",
      "source": [
        "(E) **students = { 'name' : 'alice' , 'score' : 60 }**"
      ],
      "metadata": {
        "id": "34-0i9X0MQ4r"
      }
    },
    {
      "cell_type": "markdown",
      "source": [
        "# **6**"
      ],
      "metadata": {
        "id": "NmU-FUNsMkDG"
      }
    },
    {
      "cell_type": "code",
      "source": [
        "x = 5\n",
        "y = \"John\"\n",
        "   \n",
        "print(x + y)\n"
      ],
      "metadata": {
        "colab": {
          "base_uri": "https://localhost:8080/",
          "height": 200
        },
        "id": "l7ZpuHN0NanP",
        "outputId": "244d1a6a-e2fb-42d1-c8e6-96e39174123a"
      },
      "execution_count": 5,
      "outputs": [
        {
          "output_type": "error",
          "ename": "TypeError",
          "evalue": "ignored",
          "traceback": [
            "\u001b[0;31m---------------------------------------------------------------------------\u001b[0m",
            "\u001b[0;31mTypeError\u001b[0m                                 Traceback (most recent call last)",
            "\u001b[0;32m<ipython-input-5-7c706c77b652>\u001b[0m in \u001b[0;36m<module>\u001b[0;34m\u001b[0m\n\u001b[1;32m      2\u001b[0m \u001b[0my\u001b[0m \u001b[0;34m=\u001b[0m \u001b[0;34m\"John\"\u001b[0m\u001b[0;34m\u001b[0m\u001b[0;34m\u001b[0m\u001b[0m\n\u001b[1;32m      3\u001b[0m \u001b[0;34m\u001b[0m\u001b[0m\n\u001b[0;32m----> 4\u001b[0;31m \u001b[0mprint\u001b[0m\u001b[0;34m(\u001b[0m\u001b[0mx\u001b[0m \u001b[0;34m+\u001b[0m \u001b[0my\u001b[0m\u001b[0;34m)\u001b[0m\u001b[0;34m\u001b[0m\u001b[0;34m\u001b[0m\u001b[0m\n\u001b[0m",
            "\u001b[0;31mTypeError\u001b[0m: unsupported operand type(s) for +: 'int' and 'str'"
          ]
        }
      ]
    },
    {
      "cell_type": "markdown",
      "source": [
        "**D**) **Python bold text will give you an error**"
      ],
      "metadata": {
        "id": "IkQHdkk-NfkD"
      }
    },
    {
      "cell_type": "markdown",
      "source": [
        "# **7**"
      ],
      "metadata": {
        "id": "MSv-65M3Mm1D"
      }
    },
    {
      "cell_type": "markdown",
      "source": [
        "(A)13//5  output: 2.6\n",
        "\n",
        "(B) 13/5   output: 2.6\n",
        "\n",
        "(C)13%5   output:3   \n",
        "\n",
        "(D)y = int(2.8)  output:2\n"
      ],
      "metadata": {
        "id": "i6ySCkunNkIT"
      }
    },
    {
      "cell_type": "markdown",
      "source": [
        "(B) **13/5   output: 2.6**"
      ],
      "metadata": {
        "id": "dglTXDkPNmD6"
      }
    },
    {
      "cell_type": "markdown",
      "source": [
        "# **8**"
      ],
      "metadata": {
        "id": "jGTYYJ3GMol3"
      }
    },
    {
      "cell_type": "markdown",
      "source": [
        "What does the following Python program fragment do?\n",
        "  \n",
        "   s=0\n",
        "   \n",
        "   for i in range (3 , 11) :\n",
        "        \n",
        "        s+=i\n",
        "   \n",
        "   print (s)\n",
        "\n"
      ],
      "metadata": {
        "id": "aI93Y2Pxvq3X"
      }
    },
    {
      "cell_type": "code",
      "source": [
        "   s=0\n",
        "   \n",
        "   for i in range (3 , 11) :\n",
        "       \n",
        "          s+=i\n",
        "    print (s)\n"
      ],
      "metadata": {
        "id": "3U3DhHg3N0er"
      },
      "execution_count": null,
      "outputs": []
    },
    {
      "cell_type": "code",
      "source": [
        "x = range(3,11)\n",
        "\n",
        "for n in x:\n",
        "  print(n)"
      ],
      "metadata": {
        "colab": {
          "base_uri": "https://localhost:8080/"
        },
        "id": "LpPmYfGeNvSv",
        "outputId": "86662727-7564-4045-d84a-4d5f281d35dd"
      },
      "execution_count": 8,
      "outputs": [
        {
          "output_type": "stream",
          "name": "stdout",
          "text": [
            "3\n",
            "4\n",
            "5\n",
            "6\n",
            "7\n",
            "8\n",
            "9\n",
            "10\n"
          ]
        }
      ]
    },
    {
      "cell_type": "markdown",
      "source": [
        "# **9**"
      ],
      "metadata": {
        "id": "Mf7EZotzMrND"
      }
    },
    {
      "cell_type": "code",
      "source": [
        "a = \"Hello, World!\"\n",
        "print(a[2:5]+ a[3:8]) \n"
      ],
      "metadata": {
        "colab": {
          "base_uri": "https://localhost:8080/"
        },
        "id": "k3v6k3JIOByX",
        "outputId": "f9795030-826d-4b79-b449-9d5acc096d3e"
      },
      "execution_count": 9,
      "outputs": [
        {
          "output_type": "stream",
          "name": "stdout",
          "text": [
            "llolo, W\n"
          ]
        }
      ]
    },
    {
      "cell_type": "markdown",
      "source": [
        "(C)  **llolo, W**"
      ],
      "metadata": {
        "id": "oYQUNfbWOEAK"
      }
    },
    {
      "cell_type": "markdown",
      "source": [
        "# **10**"
      ],
      "metadata": {
        "id": "QDj-48MMMsKQ"
      }
    },
    {
      "cell_type": "markdown",
      "source": [
        "Which function can returns the length of a string?\n",
        "a = \"Hello, Pythonian!\"\n",
        "print(_________)\n",
        "\n",
        "(A) len(a)  (B) length(a)   (C) count(a)  (D)  num(a)\n"
      ],
      "metadata": {
        "id": "ZwV_O2eQOIcK"
      }
    },
    {
      "cell_type": "markdown",
      "source": [
        "https://www.w3schools.com/python/python_strings.asp"
      ],
      "metadata": {
        "id": "kFKC4BNBOI6d"
      }
    },
    {
      "cell_type": "markdown",
      "source": [
        "(B) **length(a)**"
      ],
      "metadata": {
        "id": "8slUmf6TOWbJ"
      }
    },
    {
      "cell_type": "markdown",
      "source": [
        "# **11**"
      ],
      "metadata": {
        "id": "5AGbJXfrMtCA"
      }
    },
    {
      "cell_type": "markdown",
      "source": [
        "What is the output of this code in Python?\n",
        "      \n",
        "      list = [ ' a ' ,  ' b ' ,  ' c ' ,  ' d ' ,  ' e ' ]\n",
        "      \n",
        "      print (list [ 1 : ])\n",
        "   \n",
        "   (A) [ ]\n",
        "   (B) [ 'b' ]\n",
        "   (C) [ 'a' ,  'b' ]\n",
        "   (D) [ 'b' ,  'c' ,  'd' ,  'e' ]\n"
      ],
      "metadata": {
        "id": "DJHXUMuCOZJU"
      }
    },
    {
      "cell_type": "code",
      "source": [
        "list = [ ' a ' ,  ' b ' ,  ' c ' ,  ' d ' ,  ' e ' ]\n",
        "print (list [ 1 : ])\n"
      ],
      "metadata": {
        "colab": {
          "base_uri": "https://localhost:8080/"
        },
        "id": "KsKFEx_aOa5Y",
        "outputId": "bfb588a3-f89b-47b5-b75e-156725d997f9"
      },
      "execution_count": 10,
      "outputs": [
        {
          "output_type": "stream",
          "name": "stdout",
          "text": [
            "[' b ', ' c ', ' d ', ' e ']\n"
          ]
        }
      ]
    },
    {
      "cell_type": "markdown",
      "source": [
        "(D) **[ 'b' , 'c' , 'd' , 'e' ]**\n"
      ],
      "metadata": {
        "id": "WIhTPLJCOdMt"
      }
    },
    {
      "cell_type": "markdown",
      "source": [
        "# **12**"
      ],
      "metadata": {
        "id": "CWAdZKdNMtcD"
      }
    },
    {
      "cell_type": "markdown",
      "source": [
        "What is the output of this code in Python?\n",
        "        \n",
        "        L1 = [ ]\n",
        "        \n",
        "        L1.append ( [1, [2, 3], 4] )\n",
        "        \n",
        "        L1.extend ( [7, 8, 9] )\n",
        "        \n",
        "        print(L1[0][1][1] + L1[2] )\n",
        "   \n",
        "   (A) 3  (B) 8  (C) 11  (D) 38  (E) None of these\n"
      ],
      "metadata": {
        "id": "kr8g09UwOePP"
      }
    },
    {
      "cell_type": "code",
      "source": [
        "L1 = []\n",
        "L1.append ( [1, [2, 3], 4] )\n",
        "L1.extend ( [7, 8, 9] )\n",
        "\n",
        "print(L1[0][1][1] + L1[2])\n",
        "\n"
      ],
      "metadata": {
        "colab": {
          "base_uri": "https://localhost:8080/"
        },
        "id": "bbpGHHawOhfc",
        "outputId": "2081f61e-fbf2-474b-9db7-99ae633952b6"
      },
      "execution_count": 11,
      "outputs": [
        {
          "output_type": "stream",
          "name": "stdout",
          "text": [
            "11\n"
          ]
        }
      ]
    },
    {
      "cell_type": "markdown",
      "source": [
        "(C) **11**"
      ],
      "metadata": {
        "id": "uQhsrWdSOkDG"
      }
    },
    {
      "cell_type": "markdown",
      "source": [
        "# **13**"
      ],
      "metadata": {
        "id": "Yhhli0XTMt09"
      }
    },
    {
      "cell_type": "markdown",
      "source": [
        "Check if \"free\" is present in the following text:\n",
        "\n",
        "txt = \"The best things in life are free!\"\n",
        "print(\"free\" ______ txt)\n",
        "\n",
        "Which is the correct answer?\n",
        "\n",
        "(A) on (B) with (C) at  (D) in\n"
      ],
      "metadata": {
        "id": "Y4w1TL2SOndT"
      }
    },
    {
      "cell_type": "code",
      "source": [
        "txt = \"The best things in life are free!\"\n",
        "print(\"free\" in txt)\n"
      ],
      "metadata": {
        "colab": {
          "base_uri": "https://localhost:8080/"
        },
        "id": "iKPFzxkPOovW",
        "outputId": "333c12b4-72c1-4825-c2ff-bdb76dde0aef"
      },
      "execution_count": 12,
      "outputs": [
        {
          "output_type": "stream",
          "name": "stdout",
          "text": [
            "True\n"
          ]
        }
      ]
    },
    {
      "cell_type": "markdown",
      "source": [
        "(D) **in**"
      ],
      "metadata": {
        "id": "h-oXaLtQOrBB"
      }
    },
    {
      "cell_type": "markdown",
      "source": [
        "# **14**"
      ],
      "metadata": {
        "id": "nf_OjpYiMuMN"
      }
    },
    {
      "cell_type": "markdown",
      "source": [
        "Which of the following conditions correctly describes the output of this code in  Python?\n",
        "         \n",
        "         first = [1 , 2 , 3 , 4 , 5]\n",
        "         \n",
        "         second = first\n",
        "         \n",
        "         second.append (6)\n",
        "         \n",
        "         print (first)\n",
        "         \n",
        "         print (second)\n",
        "   \n",
        "   (A) first=[1, 2, 3, 4, 5], second=[1, 2, 3, 4, 5, 6]\n",
        "   \n",
        "   (B) first=[1, 2, 3, 4, 5, 6], second=[1, 2, 3, 4, 5]\n",
        "   \n",
        "   (C) first=[1, 2, 3, 4, 5], second=[1, 2, 3, 4, 5]\n",
        "   \n",
        "   (D) first=[1, 2, 3, 4, 5, 6], second=[1, 2, 3, 4, 5, 6]\n",
        "   \n",
        "   (E) None of these\n"
      ],
      "metadata": {
        "id": "yjVTyxjCOtqT"
      }
    },
    {
      "cell_type": "code",
      "source": [
        "first = [1 , 2 , 3 , 4 , 5]\n",
        "second = first\n",
        "second.append (6)\n",
        "print (first)\n",
        "print (second)\n"
      ],
      "metadata": {
        "colab": {
          "base_uri": "https://localhost:8080/"
        },
        "id": "HRSBfIkWOvI4",
        "outputId": "7a8ffc94-c827-4159-f0a8-b558bf8712b5"
      },
      "execution_count": 13,
      "outputs": [
        {
          "output_type": "stream",
          "name": "stdout",
          "text": [
            "[1, 2, 3, 4, 5, 6]\n",
            "[1, 2, 3, 4, 5, 6]\n"
          ]
        }
      ]
    },
    {
      "cell_type": "markdown",
      "source": [
        "# (D) first=[1, 2, 3, 4, 5, 6], second=[1, 2, 3, 4, 5, 6]\n",
        "\n"
      ],
      "metadata": {
        "id": "nfYa4Y8CO2Fd"
      }
    },
    {
      "cell_type": "markdown",
      "source": [
        "# **15**"
      ],
      "metadata": {
        "id": "oeJg4IK1Mulg"
      }
    },
    {
      "cell_type": "markdown",
      "source": [
        "Python has a set of built-in methods that you can use on strings. Which method can converts string into lower case ?\n",
        "\n",
        "(A)capitalize()     (B) casefold()     (C) lower()  \n",
        "(D)expandtabs()\n"
      ],
      "metadata": {
        "id": "pxulj50KO438"
      }
    },
    {
      "cell_type": "markdown",
      "source": [
        "https://www.google.com/search?q=Python+has+a+set+of+built-in+methods+that+you+can+use+on+strings.+Which+method+can+converts+string+into+lower+case+%3F&rlz=1C1ONGR_enPH1023PH1023&oq=Python+has+a+set+of+built-in+methods+that+you+can+use+on+strings.+Which+method+can+converts+string+into+lower+case+%3F&aqs=chrome..69i57.263j0j9&sourceid=chrome&ie=UTF-8"
      ],
      "metadata": {
        "id": "zcVi19y-O6uF"
      }
    },
    {
      "cell_type": "markdown",
      "source": [
        "(C) **lower ()**"
      ],
      "metadata": {
        "id": "ahejGK7JO8vM"
      }
    },
    {
      "cell_type": "markdown",
      "source": [
        "# **16**"
      ],
      "metadata": {
        "id": "KZHFeIFtNAob"
      }
    },
    {
      "cell_type": "markdown",
      "source": [
        "Python Booleans\n",
        "Which one of the following statements is wrong?\n",
        "\n",
        "(A) Booleans represent one of two values: True or False. \n",
        "\n",
        "(B) The bool() function allows you to evaluate any value, and give you True or False in return, \n",
        "\n",
        "(C) print(10 > 9) will output True  \n",
        "\n",
        "(D) **print(10 = 9) will output True**\n"
      ],
      "metadata": {
        "id": "eYtsmibsO_Gk"
      }
    },
    {
      "cell_type": "code",
      "source": [
        "print(10 = 9)"
      ],
      "metadata": {
        "colab": {
          "base_uri": "https://localhost:8080/",
          "height": 130
        },
        "id": "3lB3GwFYPCi0",
        "outputId": "fbc68987-ddfc-438c-bd36-efbf4c4ab4be"
      },
      "execution_count": 14,
      "outputs": [
        {
          "output_type": "error",
          "ename": "SyntaxError",
          "evalue": "ignored",
          "traceback": [
            "\u001b[0;36m  File \u001b[0;32m\"<ipython-input-14-bfffe3a677b9>\"\u001b[0;36m, line \u001b[0;32m1\u001b[0m\n\u001b[0;31m    print(10 = 9)\u001b[0m\n\u001b[0m         ^\u001b[0m\n\u001b[0;31mSyntaxError\u001b[0m\u001b[0;31m:\u001b[0m keyword can't be an expression\n"
          ]
        }
      ]
    },
    {
      "cell_type": "markdown",
      "source": [
        "**(D) print(10 = 9) will output True**"
      ],
      "metadata": {
        "id": "l1-xmHsnPHbL"
      }
    },
    {
      "cell_type": "markdown",
      "source": [
        "# **17**"
      ],
      "metadata": {
        "id": "c4NFv7tJNDOD"
      }
    },
    {
      "cell_type": "markdown",
      "source": [
        "Python Lists \n",
        "Which of the following statements is wrong?\n",
        "\n",
        "\n",
        "(A) Lists are used to store multiple items in a single variable.\n",
        "\n",
        "(B) Lists are created using square brackets \n",
        "\n",
        "(C) List items are ordered, changeable, and allow duplicate values. \n",
        "\n",
        "(D) Lists can not have items with the same value\n"
      ],
      "metadata": {
        "id": "5-xI1YJRPNJE"
      }
    },
    {
      "cell_type": "markdown",
      "source": [
        "(D) **Lists can not have items with the same value**"
      ],
      "metadata": {
        "id": "v-lzOP49PQQp"
      }
    },
    {
      "cell_type": "markdown",
      "source": [
        "# **18**"
      ],
      "metadata": {
        "id": "-eu9vMGbNDrm"
      }
    },
    {
      "cell_type": "markdown",
      "source": [
        "Which one of the codes will output\n",
        "['apple', 'orange', 'banana', 'cherry']  ?\n",
        "\n",
        "mylist = [\"apple\", \"banana\", \"cherry\"]\n",
        "_____________________\n",
        "print(mylist)\n",
        "\n",
        "\n",
        "(A)mylist.append(\"orange\")\n",
        "\n",
        "(B)mylist.insert(0, \"orange\")\n",
        "\n",
        "(C)mylist.insert(1, \"orange\")   \n",
        "\n",
        "(D)mylist.insert(2, \"orange\")\n"
      ],
      "metadata": {
        "id": "LaHOBK7RPXsG"
      }
    },
    {
      "cell_type": "code",
      "source": [
        "['apple', 'orange', 'banana', 'cherry']\n",
        "mylist = [\"apple\", \"banana\", \"cherry\"]\n",
        "\n",
        "mylist.insert(1, \"orange\")   \n",
        "print(mylist)"
      ],
      "metadata": {
        "colab": {
          "base_uri": "https://localhost:8080/"
        },
        "id": "nACfm5zEPZBf",
        "outputId": "4e8ec44b-ae50-4bf0-a59e-908f2eb759b1"
      },
      "execution_count": 15,
      "outputs": [
        {
          "output_type": "stream",
          "name": "stdout",
          "text": [
            "['apple', 'orange', 'banana', 'cherry']\n"
          ]
        }
      ]
    },
    {
      "cell_type": "markdown",
      "source": [
        "(C)**mylist.insert(1, \"orange\")**"
      ],
      "metadata": {
        "id": "amZ1eOJYPb5K"
      }
    },
    {
      "cell_type": "markdown",
      "source": [
        "# **19**"
      ],
      "metadata": {
        "id": "Al70KD9NND_W"
      }
    },
    {
      "cell_type": "markdown",
      "source": [
        "Python has a set of built-in methods that you can use on dictionaries. Which statements are correct ?\n",
        "\n",
        "(A) clear() will removes all the elements from the dictionary\n",
        "\n",
        "(B) copy() will returns a copy of the dictionary \n",
        "\n",
        "(C) items() will returns a list containing a tuple for each key value pair  \n",
        "\n",
        "(D) popitem()\twill removes the last inserted key-value pair\n"
      ],
      "metadata": {
        "id": "WzgO1SEvPfXi"
      }
    },
    {
      "cell_type": "markdown",
      "source": [
        "(C) **items() will returns a list containing a tuple for each key value pair**"
      ],
      "metadata": {
        "id": "F8avXA3sPhNy"
      }
    },
    {
      "cell_type": "markdown",
      "source": [
        "# **20**"
      ],
      "metadata": {
        "id": "nfYCM0CjNEWi"
      }
    },
    {
      "cell_type": "markdown",
      "source": [
        "Python supports the usual logical conditions from mathematics:\n",
        "Which statements are correct ?\n",
        "\n",
        "(A)Equals: a = b\n",
        "\n",
        "(B)Not Equals: a != b\n",
        "\n",
        "(C)Less than or equal to: a <= b\n",
        "\n",
        "(D)Greater than: a > b\n"
      ],
      "metadata": {
        "id": "SeCTUsSpPjyd"
      }
    },
    {
      "cell_type": "markdown",
      "source": [
        "(A)**Equals: a = b**"
      ],
      "metadata": {
        "id": "RZ5FLLPPPlqq"
      }
    },
    {
      "cell_type": "markdown",
      "source": [
        "# **21**"
      ],
      "metadata": {
        "id": "GGEkcOVhNLp9"
      }
    },
    {
      "cell_type": "markdown",
      "source": [
        "What is the output of this code in Python?\n"
      ],
      "metadata": {
        "id": "JtpXrB1cP-7o"
      }
    },
    {
      "cell_type": "code",
      "source": [
        "i = 1\n",
        "while i < 6:\n",
        "  print(i)\n",
        "  if (i == 3):\n",
        "    break\n",
        "  i += 1\n"
      ],
      "metadata": {
        "colab": {
          "base_uri": "https://localhost:8080/"
        },
        "id": "4RzqehgqQIIJ",
        "outputId": "770cac38-1ed0-405d-cd3b-cc8c786be29e"
      },
      "execution_count": 16,
      "outputs": [
        {
          "output_type": "stream",
          "name": "stdout",
          "text": [
            "1\n",
            "2\n",
            "3\n"
          ]
        }
      ]
    },
    {
      "cell_type": "markdown",
      "source": [
        "(A)\n",
        "   \n",
        "   **1**\n",
        "   \n",
        "  **2**\n",
        "  \n",
        " **3**\n"
      ],
      "metadata": {
        "id": "hPYm7IuZQMi8"
      }
    },
    {
      "cell_type": "markdown",
      "source": [
        "# **22**"
      ],
      "metadata": {
        "id": "K_ne64vHNMhI"
      }
    },
    {
      "cell_type": "markdown",
      "source": [
        "What is the output of this code in Python?"
      ],
      "metadata": {
        "id": "oV6t_B50QR67"
      }
    },
    {
      "cell_type": "code",
      "source": [
        "i = 0\n",
        "while i < 6:\n",
        "  i += 1\n",
        "  if i == 3:\n",
        "    continue\n",
        "  print(i)\n"
      ],
      "metadata": {
        "colab": {
          "base_uri": "https://localhost:8080/"
        },
        "id": "p2HDCdWFQTzQ",
        "outputId": "2a0d4417-9449-4335-cd9a-54325702a728"
      },
      "execution_count": 17,
      "outputs": [
        {
          "output_type": "stream",
          "name": "stdout",
          "text": [
            "1\n",
            "2\n",
            "4\n",
            "5\n",
            "6\n"
          ]
        }
      ]
    },
    {
      "cell_type": "markdown",
      "source": [
        "(B)\n",
        "\n",
        "**1**\n",
        "\n",
        "**2**\n",
        "\n",
        "**4**\n",
        "\n",
        "**5**\n",
        "\n",
        "**6**\n"
      ],
      "metadata": {
        "id": "Q1JJMyyVQWgc"
      }
    },
    {
      "cell_type": "markdown",
      "source": [
        "# **23**"
      ],
      "metadata": {
        "id": "caUGrOFuNMyq"
      }
    },
    {
      "cell_type": "markdown",
      "source": [
        "If the function \n",
        "int volume (int x = 1, int y = 1, int z = 1); \n",
        "is called by the expression volume (7,8), how many default arguments are used?\n",
        "\n",
        "(A) None  (B) One  (C) Two  (D) Three\n",
        "(E) It depends on the runtime environment.\n"
      ],
      "metadata": {
        "id": "Kn_KW5KFQmzK"
      }
    },
    {
      "cell_type": "markdown",
      "source": [
        " (C) **Two**"
      ],
      "metadata": {
        "id": "lgA_vYaTQpAS"
      }
    },
    {
      "cell_type": "markdown",
      "source": [
        "# **24**"
      ],
      "metadata": {
        "id": "674jCBjeNNYI"
      }
    },
    {
      "cell_type": "markdown",
      "source": [
        "What is the output of this code in python?\n",
        "       \n",
        "        r = lambda q: q * 2\n",
        "       \n",
        "        s = lambda q: q * 3\n",
        "       \n",
        "        x = 2\n",
        "       \n",
        "        x = r (x)\n",
        "       \n",
        "        x = s (x)\n",
        "       \n",
        "        x = r (x)\n",
        "       \n",
        "        print (x\n",
        "\n",
        "        A) 2  (B) 4  (C) 6  (D) 12  (E) 24\n"
      ],
      "metadata": {
        "id": "kinqMC6pQrvu"
      }
    },
    {
      "cell_type": "code",
      "source": [
        "r = lambda q: q * 2\n",
        "s = lambda q: q * 3\n",
        "x = 2\n",
        "x = r (x)\n",
        "x = s (x)\n",
        "x = r (x)\n",
        "print (x)\n",
        "\n"
      ],
      "metadata": {
        "colab": {
          "base_uri": "https://localhost:8080/"
        },
        "id": "A0GyDFESQth7",
        "outputId": "d808a7f4-82e9-4497-d3a3-f3a846df0a5f"
      },
      "execution_count": 18,
      "outputs": [
        {
          "output_type": "stream",
          "name": "stdout",
          "text": [
            "24\n"
          ]
        }
      ]
    },
    {
      "cell_type": "markdown",
      "source": [
        "(E) **24**"
      ],
      "metadata": {
        "id": "bY9t_xgeQveq"
      }
    },
    {
      "cell_type": "markdown",
      "source": [
        "# **25**"
      ],
      "metadata": {
        "id": "i8HMTviFNOSP"
      }
    },
    {
      "cell_type": "markdown",
      "source": [
        "A recursive function is defined as below:\n",
        "def tri_recursion(k):\n",
        "  \n",
        "  if(k > 0):\n",
        "    \n",
        "  result = k + tri_recursion(k - 1)\n",
        "    \n",
        "  print(result)\n",
        " \n",
        "  else:\n",
        "  \n",
        "  result = 0\n",
        "  \n",
        "  return result\n",
        "\n",
        "What Is The Last Line Of The Output When tri_recursion(6) is executed? \n",
        "   \n",
        "   (A) 6  (B) 10  (C) 15  (D) 21  (E) 28\n",
        "\n"
      ],
      "metadata": {
        "id": "K5ohQjvqQ3rq"
      }
    },
    {
      "cell_type": "code",
      "source": [
        "def tri_recursion(k):\n",
        "  if(k > 0):\n",
        "    result = k + tri_recursion(k - 1)\n",
        "    print(result)\n",
        "  else:\n",
        "    result = 0\n",
        "  return result\n"
      ],
      "metadata": {
        "id": "wfWCKGVqQ5IE"
      },
      "execution_count": 19,
      "outputs": []
    },
    {
      "cell_type": "markdown",
      "source": [
        "(D) **21**"
      ],
      "metadata": {
        "id": "HjGuDwu7Q7b_"
      }
    }
  ]
}