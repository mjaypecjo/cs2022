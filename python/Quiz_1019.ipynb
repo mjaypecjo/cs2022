{
  "nbformat": 4,
  "nbformat_minor": 0,
  "metadata": {
    "colab": {
      "provenance": [],
      "collapsed_sections": []
    },
    "kernelspec": {
      "name": "python3",
      "display_name": "Python 3"
    },
    "language_info": {
      "name": "python"
    }
  },
  "cells": [
    {
      "cell_type": "markdown",
      "source": [
        "# 1019 4110E228"
      ],
      "metadata": {
        "id": "6504QHdQ68_i"
      }
    },
    {
      "cell_type": "markdown",
      "source": [
        "Quiz 1019"
      ],
      "metadata": {
        "id": "SeVqlyXf7Ieo"
      }
    },
    {
      "cell_type": "markdown",
      "source": [
        "Exercise 1 :"
      ],
      "metadata": {
        "id": "dECX4EJz8I2k"
      }
    },
    {
      "cell_type": "code",
      "execution_count": 1,
      "metadata": {
        "colab": {
          "base_uri": "https://localhost:8080/"
        },
        "id": "uaycWAwy62Qc",
        "outputId": "501bbaa4-9bfc-4ec5-cc00-43a5986ce5da"
      },
      "outputs": [
        {
          "output_type": "stream",
          "name": "stdout",
          "text": [
            "5328\n"
          ]
        }
      ],
      "source": [
        "initial = 111\n",
        "\n",
        "for x in range(2,7,2):\n",
        "  initial *= x  #initial = initial*x\n",
        "\n",
        "print(initial)"
      ]
    },
    {
      "cell_type": "markdown",
      "source": [
        "Exercise 2 :"
      ],
      "metadata": {
        "id": "bFi4V7Zjv2cU"
      }
    },
    {
      "cell_type": "code",
      "source": [
        "initial = 111\n",
        "\n",
        "for x in range(2,7,2):\n",
        "  initial -= x  #initial = initial - x\n",
        "\n",
        "print(initial)"
      ],
      "metadata": {
        "colab": {
          "base_uri": "https://localhost:8080/"
        },
        "id": "jP-iLPFkv6xz",
        "outputId": "50869d2c-cd81-4208-c5c5-179dce96608d"
      },
      "execution_count": 2,
      "outputs": [
        {
          "output_type": "stream",
          "name": "stdout",
          "text": [
            "99\n"
          ]
        }
      ]
    }
  ]
}