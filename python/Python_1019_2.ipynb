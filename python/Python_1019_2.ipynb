{
  "nbformat": 4,
  "nbformat_minor": 0,
  "metadata": {
    "colab": {
      "provenance": [],
      "collapsed_sections": []
    },
    "kernelspec": {
      "name": "python3",
      "display_name": "Python 3"
    },
    "language_info": {
      "name": "python"
    }
  },
  "cells": [
    {
      "cell_type": "markdown",
      "source": [
        "# 1019 4110E228"
      ],
      "metadata": {
        "id": "6504QHdQ68_i"
      }
    },
    {
      "cell_type": "markdown",
      "source": [
        "For Loop"
      ],
      "metadata": {
        "id": "SeVqlyXf7Ieo"
      }
    },
    {
      "cell_type": "markdown",
      "source": [
        "Exercise 1 : Print each fruit in a fruit list."
      ],
      "metadata": {
        "id": "dECX4EJz8I2k"
      }
    },
    {
      "cell_type": "code",
      "execution_count": 1,
      "metadata": {
        "colab": {
          "base_uri": "https://localhost:8080/"
        },
        "id": "uaycWAwy62Qc",
        "outputId": "7ed9733b-0b45-4d9c-9fbb-8e953c141f27"
      },
      "outputs": [
        {
          "output_type": "stream",
          "name": "stdout",
          "text": [
            "mango\n",
            "watermelon\n",
            "apple\n",
            "banana\n"
          ]
        }
      ],
      "source": [
        "fruits = [\"mango\", \"watermelon\", \"apple\", \"banana\"]\n",
        "for x in fruits:\n",
        "  print(x)"
      ]
    }
  ]
}