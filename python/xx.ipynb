{
  "nbformat": 4,
  "nbformat_minor": 0,
  "metadata": {
    "colab": {
      "provenance": [],
      "collapsed_sections": []
    },
    "kernelspec": {
      "name": "python3",
      "display_name": "Python 3"
    },
    "language_info": {
      "name": "python"
    }
  },
  "cells": [
    {
      "cell_type": "markdown",
      "source": [
        "**Python - Lists**"
      ],
      "metadata": {
        "id": "UFYVc2dntntu"
      }
    },
    {
      "cell_type": "markdown",
      "source": [
        "*List*"
      ],
      "metadata": {
        "id": "LdoTu26ZxnFf"
      }
    },
    {
      "cell_type": "code",
      "source": [
        "mylist = [\"apple\",\"banana\",\"cherry\", \"orange\"]\n",
        "print(mylist)"
      ],
      "metadata": {
        "colab": {
          "base_uri": "https://localhost:8080/"
        },
        "id": "Ktq1x4husJs9",
        "outputId": "ab2ad13c-6428-4ee7-c6fa-3ee6b3bb77cf"
      },
      "execution_count": null,
      "outputs": [
        {
          "output_type": "stream",
          "name": "stdout",
          "text": [
            "['apple', 'banana', 'cherry', 'orange']\n"
          ]
        }
      ]
    },
    {
      "cell_type": "markdown",
      "source": [
        "*Allow Duplicates*"
      ],
      "metadata": {
        "id": "a-wMAi7zySuF"
      }
    },
    {
      "cell_type": "code",
      "source": [
        "mylist = [\"apple\", \"banana\", \"cherry\", \"orange\", \"cherry\"]\n",
        "print(mylist[3])\n",
        "print(mylist[4])\n",
        "print(mylist)"
      ],
      "metadata": {
        "colab": {
          "base_uri": "https://localhost:8080/"
        },
        "id": "rQWz1Cl5yYPa",
        "outputId": "2ee9455b-6afb-4b24-c687-81e784725104"
      },
      "execution_count": null,
      "outputs": [
        {
          "output_type": "stream",
          "name": "stdout",
          "text": [
            "orange\n",
            "cherry\n",
            "['apple', 'banana', 'cherry', 'orange', 'cherry']\n"
          ]
        }
      ]
    },
    {
      "cell_type": "markdown",
      "source": [
        "*List Length*"
      ],
      "metadata": {
        "id": "1cQwICT3zGkL"
      }
    },
    {
      "cell_type": "code",
      "source": [
        "mylist = [\"apple\", \"banana\", \"cherry\", \"orange\", \"cherry\"]\n",
        "print(len(mylist))"
      ],
      "metadata": {
        "colab": {
          "base_uri": "https://localhost:8080/"
        },
        "id": "CfQVaG0czLX3",
        "outputId": "1fd3c186-7322-4670-f7b9-665a96d09a4f"
      },
      "execution_count": null,
      "outputs": [
        {
          "output_type": "stream",
          "name": "stdout",
          "text": [
            "5\n"
          ]
        }
      ]
    },
    {
      "cell_type": "markdown",
      "source": [
        "*List Item - Data Types*"
      ],
      "metadata": {
        "id": "ARaa2Y4qzsLX"
      }
    },
    {
      "cell_type": "code",
      "source": [
        "list1 = [\"apple\", \"banana\", \"cherry\"]\n",
        "list2 = [1, 5, 7, 9, 3]\n",
        "list3 = [True, False, False]"
      ],
      "metadata": {
        "id": "6xPa3GEWzuel"
      },
      "execution_count": null,
      "outputs": []
    },
    {
      "cell_type": "markdown",
      "source": [
        "*The List() Constructor*"
      ],
      "metadata": {
        "id": "zQpFjmxb0OQ1"
      }
    },
    {
      "cell_type": "code",
      "source": [
        "thislist = list((\"apple\", \"banana\", \"cherry\")) # note the double round-brackets\n",
        "print(thislist)"
      ],
      "metadata": {
        "colab": {
          "base_uri": "https://localhost:8080/"
        },
        "id": "uq8FZ6w60So7",
        "outputId": "65ab338d-3e36-4cfb-ed1b-f1f533f326c9"
      },
      "execution_count": null,
      "outputs": [
        {
          "output_type": "stream",
          "name": "stdout",
          "text": [
            "['apple', 'banana', 'cherry']\n"
          ]
        }
      ]
    },
    {
      "cell_type": "markdown",
      "source": [
        "**Python - Basic Oeprators**"
      ],
      "metadata": {
        "id": "6v7wGssP0xyu"
      }
    },
    {
      "cell_type": "markdown",
      "source": [
        "**`Python - Access List Items`**"
      ],
      "metadata": {
        "id": "D7gjPbwM02ck"
      }
    },
    {
      "cell_type": "code",
      "source": [
        "mylist = [\"apple\", \"banana\", \"cherry\", \"orange\", \"cherry\"]\n",
        "print(mylist[0])\n",
        "print(mylist[3])\n",
        "print(mylist[4])"
      ],
      "metadata": {
        "colab": {
          "base_uri": "https://localhost:8080/"
        },
        "id": "f_ve4d5Cwwg_",
        "outputId": "d3764052-e1be-4fa8-bdfc-574e6984d297"
      },
      "execution_count": null,
      "outputs": [
        {
          "output_type": "stream",
          "name": "stdout",
          "text": [
            "apple\n",
            "orange\n",
            "cherry\n"
          ]
        }
      ]
    },
    {
      "cell_type": "markdown",
      "source": [
        "*Negative Indexing*"
      ],
      "metadata": {
        "id": "d7TOX4N31vUQ"
      }
    },
    {
      "cell_type": "code",
      "source": [
        "mylist = [\"apple\", \"banana\", \"cherry\",\"orange\"]\n",
        "print(mylist[-2])"
      ],
      "metadata": {
        "colab": {
          "base_uri": "https://localhost:8080/"
        },
        "id": "Aw3nvunD1zAE",
        "outputId": "dd055427-d579-4c2d-9de4-395d239070e0"
      },
      "execution_count": null,
      "outputs": [
        {
          "output_type": "stream",
          "name": "stdout",
          "text": [
            "cherry\n"
          ]
        }
      ]
    },
    {
      "cell_type": "markdown",
      "source": [
        "*Range of Indexes*"
      ],
      "metadata": {
        "id": "ep2UUJ592h_4"
      }
    },
    {
      "cell_type": "code",
      "source": [
        "mylist = [\"apple\", \"banana\", \"cherry\", \"orange\", \"kiwi\", \"melon\", \"mango\"]\n",
        "print(mylist[3:6])"
      ],
      "metadata": {
        "colab": {
          "base_uri": "https://localhost:8080/"
        },
        "id": "MevJnxjG2m3p",
        "outputId": "7ad3cb00-ca9f-4de8-f216-585226aa857b"
      },
      "execution_count": null,
      "outputs": [
        {
          "output_type": "stream",
          "name": "stdout",
          "text": [
            "['orange', 'kiwi', 'melon']\n"
          ]
        }
      ]
    },
    {
      "cell_type": "markdown",
      "source": [
        "*Range of Negative Indexes*"
      ],
      "metadata": {
        "id": "JTAVHct42aUP"
      }
    },
    {
      "cell_type": "code",
      "source": [
        "mylist = [\"apple\", \"banana\", \"cherry\", \"orange\", \"kiwi\", \"melon\", \"mango\"]\n",
        "print(mylist[-6:-2])"
      ],
      "metadata": {
        "colab": {
          "base_uri": "https://localhost:8080/"
        },
        "id": "VEeGpoNv2c9c",
        "outputId": "382ab375-7fdb-4938-89dd-b499c6a00ec1"
      },
      "execution_count": null,
      "outputs": [
        {
          "output_type": "stream",
          "name": "stdout",
          "text": [
            "['banana', 'cherry', 'orange', 'kiwi']\n"
          ]
        }
      ]
    },
    {
      "cell_type": "markdown",
      "source": [
        "*Check if Item Exist*"
      ],
      "metadata": {
        "id": "Go4j1OXb3XbT"
      }
    },
    {
      "cell_type": "code",
      "source": [
        "mylist = [\"apple\", \"banana\", \"cherry\"]\n",
        "if \"apple\" in mylist:\n",
        "  print(\"Yes, 'apple' is in the fruits list\")"
      ],
      "metadata": {
        "colab": {
          "base_uri": "https://localhost:8080/"
        },
        "id": "XGF0t-lT3avQ",
        "outputId": "721e1f6a-f674-4edb-8d8a-054a35f1e1dc"
      },
      "execution_count": null,
      "outputs": [
        {
          "output_type": "stream",
          "name": "stdout",
          "text": [
            "Yes, 'apple' is in the fruits list\n"
          ]
        }
      ]
    },
    {
      "cell_type": "markdown",
      "source": [
        "**`Python - Change List Items`**"
      ],
      "metadata": {
        "id": "TBPNr5uW4B1G"
      }
    },
    {
      "cell_type": "markdown",
      "source": [
        "*Change Item Value*"
      ],
      "metadata": {
        "id": "Jm333d454KZG"
      }
    },
    {
      "cell_type": "code",
      "source": [
        "mylist = [\"apple\", \"banana\", \"cherry\"]\n",
        "mylist[1] = \"blackcurrant\"\n",
        "print(mylist)"
      ],
      "metadata": {
        "colab": {
          "base_uri": "https://localhost:8080/"
        },
        "id": "-yF9hXXA4F3W",
        "outputId": "80294098-0a31-4654-d2dc-468ef934082f"
      },
      "execution_count": null,
      "outputs": [
        {
          "output_type": "stream",
          "name": "stdout",
          "text": [
            "['apple', 'blackcurrant', 'cherry']\n"
          ]
        }
      ]
    },
    {
      "cell_type": "markdown",
      "source": [
        "*Change a Range of Item Values*"
      ],
      "metadata": {
        "id": "mCZSLvHv4kdr"
      }
    },
    {
      "cell_type": "code",
      "source": [
        "mylist = [\"apple\", \"banana\", \"cherry\", \"orange\", \"kiwi\", \"mango\"]\n",
        "mylist[1:5] = [\"blackcurrant\", \"watermelon\"]\n",
        "print(mylist)"
      ],
      "metadata": {
        "colab": {
          "base_uri": "https://localhost:8080/"
        },
        "id": "TfYhoPxP4l13",
        "outputId": "3c240d29-8ebe-4969-b1f9-ba0cbe54dcf3"
      },
      "execution_count": null,
      "outputs": [
        {
          "output_type": "stream",
          "name": "stdout",
          "text": [
            "['apple', 'blackcurrant', 'watermelon', 'mango']\n"
          ]
        }
      ]
    },
    {
      "cell_type": "markdown",
      "source": [
        "**`Python - Add List Items`**"
      ],
      "metadata": {
        "id": "__ZvN-pG5otg"
      }
    },
    {
      "cell_type": "markdown",
      "source": [
        "*Append Items*"
      ],
      "metadata": {
        "id": "_NsXEy7a5rAw"
      }
    },
    {
      "cell_type": "code",
      "source": [
        "mylist = [\"apple\", \"banana\", \"cherry\"]\n",
        "mylist.append(\"orange\")\n",
        "print(mylist)"
      ],
      "metadata": {
        "colab": {
          "base_uri": "https://localhost:8080/"
        },
        "id": "7IEyng2r5vLf",
        "outputId": "cca3ec27-1e29-43b5-caf6-b019014b2cd8"
      },
      "execution_count": null,
      "outputs": [
        {
          "output_type": "stream",
          "name": "stdout",
          "text": [
            "['apple', 'banana', 'cherry', 'orange']\n"
          ]
        }
      ]
    },
    {
      "cell_type": "markdown",
      "source": [
        "*Insert Items*"
      ],
      "metadata": {
        "id": "gk2Rbu7U5PGr"
      }
    },
    {
      "cell_type": "code",
      "source": [
        "mylist = [\"apple\", \"banana\", \"cherry\"]\n",
        "mylist.insert(1, \"watermelon\")\n",
        "print(mylist)"
      ],
      "metadata": {
        "colab": {
          "base_uri": "https://localhost:8080/"
        },
        "id": "_jcIlHEs5Qxg",
        "outputId": "2f1fb6c1-c47e-40f1-d662-c10b7b5b1088"
      },
      "execution_count": null,
      "outputs": [
        {
          "output_type": "stream",
          "name": "stdout",
          "text": [
            "['apple', 'watermelon', 'banana', 'cherry']\n"
          ]
        }
      ]
    },
    {
      "cell_type": "markdown",
      "source": [
        "*Extend List*"
      ],
      "metadata": {
        "id": "hRjMCvX76L3Z"
      }
    },
    {
      "cell_type": "code",
      "source": [
        "mylist = [\"apple\", \"banana\", \"cherry\"]\n",
        "tropical = [\"mango\", \"pineapple\", \"papaya\"]\n",
        "mylist.extend(tropical)\n",
        "print(mylist)"
      ],
      "metadata": {
        "colab": {
          "base_uri": "https://localhost:8080/"
        },
        "id": "VJ4JHIDv6OYB",
        "outputId": "66a19770-9c81-42f0-87f7-15fb4ff32f81"
      },
      "execution_count": null,
      "outputs": [
        {
          "output_type": "stream",
          "name": "stdout",
          "text": [
            "['apple', 'banana', 'cherry', 'mango', 'pineapple', 'papaya']\n"
          ]
        }
      ]
    },
    {
      "cell_type": "markdown",
      "source": [
        "*Add Any Iterable*"
      ],
      "metadata": {
        "id": "tdiKZDux6wFd"
      }
    },
    {
      "cell_type": "code",
      "source": [
        "mylist = [\"apple\", \"banana\", \"cherry\"]\n",
        "friendlist = (\"kiwi\", \"orange\")\n",
        "mylist.extend(friendlist)\n",
        "print(mylist)"
      ],
      "metadata": {
        "colab": {
          "base_uri": "https://localhost:8080/"
        },
        "id": "OFbVGpzw6zsq",
        "outputId": "b68e2214-7055-4f14-ce19-c090692a08e5"
      },
      "execution_count": null,
      "outputs": [
        {
          "output_type": "stream",
          "name": "stdout",
          "text": [
            "['apple', 'banana', 'cherry', 'kiwi', 'orange']\n"
          ]
        }
      ]
    },
    {
      "cell_type": "markdown",
      "source": [
        "**`Python - Remove List Items`**"
      ],
      "metadata": {
        "id": "8H25an2N80Xy"
      }
    },
    {
      "cell_type": "markdown",
      "source": [
        "*Remove Specified Item*"
      ],
      "metadata": {
        "id": "Un79vr3-85tK"
      }
    },
    {
      "cell_type": "code",
      "source": [
        "mylist = [\"apple\", \"banana\", \"cherry\", \"orange\"]\n",
        "mylist.remove(\"cherry\")\n",
        "print(mylist)"
      ],
      "metadata": {
        "colab": {
          "base_uri": "https://localhost:8080/"
        },
        "id": "a6JXuxJY88a5",
        "outputId": "e5390982-837d-4298-edae-bd7bb14bf9b3"
      },
      "execution_count": null,
      "outputs": [
        {
          "output_type": "stream",
          "name": "stdout",
          "text": [
            "['apple', 'banana', 'orange']\n"
          ]
        }
      ]
    },
    {
      "cell_type": "markdown",
      "source": [
        "*Remove Specified Index*"
      ],
      "metadata": {
        "id": "Iyol8XZ49eHa"
      }
    },
    {
      "cell_type": "code",
      "source": [
        "mylist = [\"apple\", \"banana\", \"cherry\", \"watermelon\"]\n",
        "mylist.pop(1)\n",
        "print(mylist)"
      ],
      "metadata": {
        "colab": {
          "base_uri": "https://localhost:8080/"
        },
        "id": "7I1TXp4R9hYz",
        "outputId": "dbabaa10-f065-4244-805d-8d730a42a984"
      },
      "execution_count": null,
      "outputs": [
        {
          "output_type": "stream",
          "name": "stdout",
          "text": [
            "['apple', 'cherry', 'watermelon']\n"
          ]
        }
      ]
    },
    {
      "cell_type": "markdown",
      "source": [
        "*Clear the List*"
      ],
      "metadata": {
        "id": "xCjzepXK9uL8"
      }
    },
    {
      "cell_type": "code",
      "source": [
        "mylist = [\"apple\", \"banana\", \"cherry\"]\n",
        "mylist.clear()\n",
        "print(mylist)"
      ],
      "metadata": {
        "colab": {
          "base_uri": "https://localhost:8080/"
        },
        "id": "OTVcleVM9xDN",
        "outputId": "eaced5d2-1ee9-41d9-bc74-ca3fa3090dc6"
      },
      "execution_count": null,
      "outputs": [
        {
          "output_type": "stream",
          "name": "stdout",
          "text": [
            "[]\n"
          ]
        }
      ]
    },
    {
      "cell_type": "markdown",
      "source": [
        "**Advanced Operations in Python Lists**"
      ],
      "metadata": {
        "id": "Za3YCZiYIw_s"
      }
    },
    {
      "cell_type": "markdown",
      "source": [
        "**`Python - Sort List`**"
      ],
      "metadata": {
        "id": "nPWXOxoYI27i"
      }
    },
    {
      "cell_type": "markdown",
      "source": [
        "*Sort List Alphanumerically*"
      ],
      "metadata": {
        "id": "gCLMUZ8iJVGb"
      }
    },
    {
      "cell_type": "code",
      "source": [
        "mylist = [\"orange\", \"mango\", \"kiwi\", \"pineapple\", \"banana\"]\n",
        "mylist.sort()\n",
        "print(mylist)"
      ],
      "metadata": {
        "colab": {
          "base_uri": "https://localhost:8080/"
        },
        "id": "ffAhTSsoI96h",
        "outputId": "f78aef43-a2fa-4b0f-cebd-6104f977be08"
      },
      "execution_count": null,
      "outputs": [
        {
          "output_type": "stream",
          "name": "stdout",
          "text": [
            "['banana', 'kiwi', 'mango', 'orange', 'pineapple']\n"
          ]
        }
      ]
    },
    {
      "cell_type": "markdown",
      "source": [
        "*Sort Descending*"
      ],
      "metadata": {
        "id": "UjhtUinCJcNP"
      }
    },
    {
      "cell_type": "code",
      "source": [
        "mylist = [\"orange\", \"mango\", \"kiwi\", \"pineapple\", \"banana\"]\n",
        "mylist.sort(reverse = True)\n",
        "print(mylist)"
      ],
      "metadata": {
        "colab": {
          "base_uri": "https://localhost:8080/"
        },
        "id": "A2OeU486JeT2",
        "outputId": "93ca47be-bed5-4fec-c6f1-c2bd4af4cd7d"
      },
      "execution_count": null,
      "outputs": [
        {
          "output_type": "stream",
          "name": "stdout",
          "text": [
            "['pineapple', 'orange', 'mango', 'kiwi', 'banana']\n"
          ]
        }
      ]
    },
    {
      "cell_type": "markdown",
      "source": [
        "*Customize Sort Function*"
      ],
      "metadata": {
        "id": "2jw5XOukJkhb"
      }
    },
    {
      "cell_type": "code",
      "source": [
        "def myfunc(n):\n",
        "  return abs(n - 50)\n",
        "\n",
        "mylist = [100, 50, 65, 82, 23]\n",
        "mylist.sort(key = myfunc)\n",
        "print(mylist)"
      ],
      "metadata": {
        "colab": {
          "base_uri": "https://localhost:8080/"
        },
        "id": "ZKDven6cJqCd",
        "outputId": "b1c08f9e-602b-463e-f602-87a1f275c525"
      },
      "execution_count": null,
      "outputs": [
        {
          "output_type": "stream",
          "name": "stdout",
          "text": [
            "[50, 65, 23, 82, 100]\n"
          ]
        }
      ]
    },
    {
      "cell_type": "markdown",
      "source": [
        "*Case Insensitive Sort*"
      ],
      "metadata": {
        "id": "_NEcFhnnJ1Qb"
      }
    },
    {
      "cell_type": "code",
      "source": [
        "mylist = [\"banana\", \"Orange\", \"Kiwi\", \"cherry\"]\n",
        "mylist.sort()\n",
        "print(mylist)"
      ],
      "metadata": {
        "colab": {
          "base_uri": "https://localhost:8080/"
        },
        "id": "Q-2XjheoJ2Uz",
        "outputId": "cd07b108-008d-43bd-f06f-59bf5bccc71c"
      },
      "execution_count": null,
      "outputs": [
        {
          "output_type": "stream",
          "name": "stdout",
          "text": [
            "['Kiwi', 'Orange', 'banana', 'cherry']\n"
          ]
        }
      ]
    },
    {
      "cell_type": "markdown",
      "source": [
        "*Reverse Order*"
      ],
      "metadata": {
        "id": "o-bG3ROyJ8KI"
      }
    },
    {
      "cell_type": "code",
      "source": [
        "mylist = [\"banana\", \"Orange\", \"Kiwi\", \"cherry\"]\n",
        "mylist.reverse()\n",
        "print(mylist)"
      ],
      "metadata": {
        "colab": {
          "base_uri": "https://localhost:8080/"
        },
        "id": "30lxm6F8J9Px",
        "outputId": "03633bf6-bd2f-45ca-ab3c-0ac6426b32e7"
      },
      "execution_count": null,
      "outputs": [
        {
          "output_type": "stream",
          "name": "stdout",
          "text": [
            "['cherry', 'Kiwi', 'Orange', 'banana']\n"
          ]
        }
      ]
    },
    {
      "cell_type": "markdown",
      "source": [
        "**`Python - Copy List`**"
      ],
      "metadata": {
        "id": "nMSuXjF8KHfD"
      }
    },
    {
      "cell_type": "code",
      "source": [
        "thislist = [\"apple\", \"banana\", \"cherry\"]\n",
        "mylist = thislist.copy()\n",
        "print(mylist)"
      ],
      "metadata": {
        "colab": {
          "base_uri": "https://localhost:8080/"
        },
        "id": "zPfQ7XuNKKzW",
        "outputId": "db53f147-1328-4747-cf4a-a8658962638f"
      },
      "execution_count": null,
      "outputs": [
        {
          "output_type": "stream",
          "name": "stdout",
          "text": [
            "['apple', 'banana', 'cherry']\n"
          ]
        }
      ]
    },
    {
      "cell_type": "markdown",
      "source": [
        "***Python - Join Lists***"
      ],
      "metadata": {
        "id": "LrbyUVNqKUZ_"
      }
    },
    {
      "cell_type": "markdown",
      "source": [
        "*Join Two Lists*"
      ],
      "metadata": {
        "id": "B6ZNoDU6KYkU"
      }
    },
    {
      "cell_type": "code",
      "source": [
        "list1 = [\"a\", \"b\", \"c\"]\n",
        "list2 = [1, 2, 3]\n",
        "\n",
        "list3 = list1 + list2\n",
        "print(list3)"
      ],
      "metadata": {
        "colab": {
          "base_uri": "https://localhost:8080/"
        },
        "id": "Ute3LPXzKeRI",
        "outputId": "fd65dade-7731-48a7-ba93-67c2254bc6b6"
      },
      "execution_count": null,
      "outputs": [
        {
          "output_type": "stream",
          "name": "stdout",
          "text": [
            "['a', 'b', 'c', 1, 2, 3]\n"
          ]
        }
      ]
    },
    {
      "cell_type": "markdown",
      "source": [
        "**List Methods**"
      ],
      "metadata": {
        "id": "rlNVGftPLXGq"
      }
    },
    {
      "cell_type": "markdown",
      "source": [
        "**`Python List reverse() Method`**"
      ],
      "metadata": {
        "id": "Vj2SwPR8LaKy"
      }
    },
    {
      "cell_type": "code",
      "source": [
        "fruits = ['apple', 'banana', 'cherry']\n",
        "\n",
        "fruits.reverse()"
      ],
      "metadata": {
        "id": "Q0PyxTvVLdff"
      },
      "execution_count": null,
      "outputs": []
    }
  ]
}