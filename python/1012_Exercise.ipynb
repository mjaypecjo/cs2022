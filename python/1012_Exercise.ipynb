{
  "nbformat": 4,
  "nbformat_minor": 0,
  "metadata": {
    "colab": {
      "provenance": []
    },
    "kernelspec": {
      "name": "python3",
      "display_name": "Python 3"
    },
    "language_info": {
      "name": "python"
    }
  },
  "cells": [
    {
      "cell_type": "markdown",
      "source": [
        "# 1012 Exercise 4110E228"
      ],
      "metadata": {
        "id": "a3u0RNO4r1_2"
      }
    },
    {
      "cell_type": "markdown",
      "source": [
        "**Python List Remove**"
      ],
      "metadata": {
        "id": "GLpIHIO5r5Kp"
      }
    },
    {
      "cell_type": "markdown",
      "source": [
        "Exercise 1: Remove element from the list"
      ],
      "metadata": {
        "id": "If2VWCOXr7ss"
      }
    },
    {
      "cell_type": "code",
      "execution_count": null,
      "metadata": {
        "id": "vM4GKBFOceOW",
        "colab": {
          "base_uri": "https://localhost:8080/"
        },
        "outputId": "92a3a36c-c8e3-46a5-d6ec-c1ef403fe3b8"
      },
      "outputs": [
        {
          "output_type": "stream",
          "name": "stdout",
          "text": [
            "Updated snacks list:  ['Bread', 'Banana Cue', 'Biscuit']\n"
          ]
        }
      ],
      "source": [
        "# snacks list\n",
        "snacks = ['Bread', 'Banana Cue', 'Suman', 'Biscuit']\n",
        "\n",
        "# 'Puto' is removed\n",
        "snacks.remove('Suman')\n",
        "\n",
        "\n",
        "# Updated snacks List\n",
        "print('Updated snacks list: ', snacks)"
      ]
    },
    {
      "cell_type": "markdown",
      "source": [
        "Exercise 2: remove() method on a list having duplicate elements"
      ],
      "metadata": {
        "id": "sG-qWZnxsHql"
      }
    },
    {
      "cell_type": "code",
      "source": [
        "# snacks list\n",
        "snacks = ['Bread', 'Banana Cue', 'Banana Cue', 'Biscuit', 'Banana Cue']\n",
        "\n",
        "# 'Banana Cue' is removed\n",
        "snacks.remove('Banana Cue')\n",
        "\n",
        "\n",
        "# Updated snacks list\n",
        "print('Updated snacks list: ', snacks)"
      ],
      "metadata": {
        "colab": {
          "base_uri": "https://localhost:8080/"
        },
        "id": "IFM90ekmsIUF",
        "outputId": "8af32552-773c-40a8-9b1c-3c466691bdb1"
      },
      "execution_count": null,
      "outputs": [
        {
          "output_type": "stream",
          "name": "stdout",
          "text": [
            "Updated snacks list:  ['Bread', 'Banana Cue', 'Biscuit', 'Banana Cue']\n"
          ]
        }
      ]
    },
    {
      "cell_type": "markdown",
      "source": [
        "Exercise 3: Deleting element that doesn't exist"
      ],
      "metadata": {
        "id": "-lVaRwXQsMUm"
      }
    },
    {
      "cell_type": "code",
      "source": [
        "# snacks list\n",
        "snacks =['Biscuit', 'Banana Cue', 'Suman', 'Bread']\n",
        "\n",
        "# Deleting 'Suman' element\n",
        "snacks.remove('Popcorn')\n",
        "\n",
        "# Updated snacks list\n",
        "print('Updated snacks list: ', snacks)"
      ],
      "metadata": {
        "colab": {
          "base_uri": "https://localhost:8080/",
          "height": 235
        },
        "id": "PrPBENiVsOAW",
        "outputId": "b0076d16-c79a-4a1f-c565-1f2efca06454"
      },
      "execution_count": 10,
      "outputs": [
        {
          "output_type": "error",
          "ename": "ValueError",
          "evalue": "ignored",
          "traceback": [
            "\u001b[0;31m---------------------------------------------------------------------------\u001b[0m",
            "\u001b[0;31mValueError\u001b[0m                                Traceback (most recent call last)",
            "\u001b[0;32m<ipython-input-10-cfdc2d535621>\u001b[0m in \u001b[0;36m<module>\u001b[0;34m\u001b[0m\n\u001b[1;32m      3\u001b[0m \u001b[0;34m\u001b[0m\u001b[0m\n\u001b[1;32m      4\u001b[0m \u001b[0;31m# Deleting 'Suman' element\u001b[0m\u001b[0;34m\u001b[0m\u001b[0;34m\u001b[0m\u001b[0;34m\u001b[0m\u001b[0m\n\u001b[0;32m----> 5\u001b[0;31m \u001b[0msnacks\u001b[0m\u001b[0;34m.\u001b[0m\u001b[0mremove\u001b[0m\u001b[0;34m(\u001b[0m\u001b[0;34m'Popcorn'\u001b[0m\u001b[0;34m)\u001b[0m\u001b[0;34m\u001b[0m\u001b[0;34m\u001b[0m\u001b[0m\n\u001b[0m\u001b[1;32m      6\u001b[0m \u001b[0;34m\u001b[0m\u001b[0m\n\u001b[1;32m      7\u001b[0m \u001b[0;31m# Updated snacks list\u001b[0m\u001b[0;34m\u001b[0m\u001b[0;34m\u001b[0m\u001b[0;34m\u001b[0m\u001b[0m\n",
            "\u001b[0;31mValueError\u001b[0m: list.remove(x): x not in list"
          ]
        }
      ]
    }
  ]
}